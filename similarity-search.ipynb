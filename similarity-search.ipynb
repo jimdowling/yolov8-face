{
 "cells": [
  {
   "cell_type": "code",
   "execution_count": 3,
   "id": "2ed6eb2d-bd5d-41f3-a733-fb687f7f4290",
   "metadata": {},
   "outputs": [
    {
     "name": "stdout",
     "output_type": "stream",
     "text": [
      "2025-08-23 06:58:18,464 INFO: Python Engine initialized.\n",
      "\n",
      "Logged in to project, explore it here https://snurran.devnet.hops.works/p/120\n"
     ]
    }
   ],
   "source": [
    "import pandas as pd\n",
    "import torch\n",
    "from PIL import Image\n",
    "from transformers import CLIPProcessor, CLIPModel\n",
    "import hopsworks\n",
    "import os\n",
    "\n",
    "proj = hopsworks.login()\n",
    "fs = proj.get_feature_store()\n",
    "mr = proj.get_model_registry()\n"
   ]
  },
  {
   "cell_type": "code",
   "execution_count": 5,
   "id": "4edcab63-fb1a-44af-b243-3d177d2d4ab8",
   "metadata": {},
   "outputs": [
    {
     "name": "stdout",
     "output_type": "stream",
     "text": [
      "Downloading model from Model Registry\n",
      "Downloading model artifact (0 dirs, 9 files)... DONE\r"
     ]
    },
    {
     "name": "stderr",
     "output_type": "stream",
     "text": [
      "Using a slow image processor as `use_fast` is unset and a slow processor was saved with this model. `use_fast=True` will be the default behavior in v4.52, even if the model was saved with a slow processor. This will result in minor differences in outputs. You'll still be able to use a slow processor with `use_fast=False`.\n"
     ]
    },
    {
     "name": "stdout",
     "output_type": "stream",
     "text": [
      "Device: cuda\n"
     ]
    }
   ],
   "source": [
    "name=\"openaiclip_vit_base_patch32\"\n",
    "model_mr = mr.get_model(name, version=1)\n",
    "if model_mr is None:\n",
    "    print(\"Downloading model from HF\")\n",
    "    model_name = \"openai/clip-vit-base-patch32\"\n",
    "    model = CLIPModel.from_pretrained(model_name)\n",
    "    processor = CLIPProcessor.from_pretrained(model_name)    \n",
    "    save_dir = \"/tmp/clip-vit-base-patch32-local\"\n",
    "    os.makedirs(save_dir, exist_ok=True)\n",
    "    model.save_pretrained(save_dir)\n",
    "    processor.save_pretrained(save_dir)\n",
    "    model_mr =  mr.python.create_model(\n",
    "        name=name, \n",
    "        description=\"Image vector embedding model from OpenAI\",\n",
    "    )\n",
    "    model_mr.save(save_dir)\n",
    "else:\n",
    "    print(\"Downloading model from Model Registry\")\n",
    "    model_mr.download(local_path=\"/tmp\")\n",
    "    local_path = \"/tmp\"\n",
    "    model = CLIPModel.from_pretrained(local_path)\n",
    "    processor = CLIPProcessor.from_pretrained(local_path)\n",
    "\n",
    "# Move model to GPU (only if available)\n",
    "device = \"cuda\" if torch.cuda.is_available() else \"cpu\"\n",
    "model = model.to(device)\n",
    "print(f\"Device: {device}\")"
   ]
  },
  {
   "cell_type": "code",
   "execution_count": null,
   "id": "2bd340e9-a6e7-4e7e-9798-c3fbca12f1a7",
   "metadata": {},
   "outputs": [],
   "source": [
    "def get_image_embedding(image_path):\n",
    "    try:\n",
    "        image = Image.open(image_path).convert(\"RGB\")\n",
    "        inputs = processor(images=image, return_tensors=\"pt\").to(device)\n",
    "\n",
    "        with torch.no_grad():\n",
    "            embedding = model.get_image_features(**inputs)\n",
    "\n",
    "        # Normalize\n",
    "        embedding = embedding / embedding.norm(p=2, dim=-1, keepdim=True)\n",
    "\n",
    "        # Move back to CPU before converting to list\n",
    "        return embedding.squeeze().cpu().tolist()\n",
    "    except Exception as e:\n",
    "        print(f\"Error processing {image_path}: {e}\")\n",
    "        return None\n"
   ]
  },
  {
   "cell_type": "code",
   "execution_count": null,
   "id": "9fad6f6a-c803-4cd1-b1db-f9042636d73e",
   "metadata": {},
   "outputs": [],
   "source": [
    "fg =  fs.get_feature_group(\"wider_face_files\", version=1)\n",
    "df = fg.read()\n",
    "df"
   ]
  },
  {
   "cell_type": "code",
   "execution_count": null,
   "id": "7416c415-3bfa-4dc3-b936-7289253e9e78",
   "metadata": {},
   "outputs": [],
   "source": [
    "df1 = df[['file_path']]"
   ]
  },
  {
   "cell_type": "code",
   "execution_count": null,
   "id": "a1bfa0e2-4fef-42ca-95c3-ba93a6ac2914",
   "metadata": {},
   "outputs": [],
   "source": [
    "df1.head()"
   ]
  },
  {
   "cell_type": "code",
   "execution_count": null,
   "id": "bda76fb5-503e-4391-8021-d0475e077507",
   "metadata": {},
   "outputs": [],
   "source": [
    "import time\n",
    "start = time.time()\n",
    "\n",
    "# # Apply function to each row\n",
    "df1[\"embedding\"] = df1[\"file_path\"].apply(get_image_embedding)\n",
    "\n",
    "print(f\"Execution time: {time.time() - start:.4f} seconds\")\n",
    "\n",
    "df1.head()"
   ]
  },
  {
   "cell_type": "code",
   "execution_count": null,
   "id": "a1fa35f0-aef0-44ad-84ee-52a6edb948e8",
   "metadata": {},
   "outputs": [],
   "source": [
    "from hopsworks import hsfs\n",
    "embedding_index = hsfs.embedding.EmbeddingIndex()\n",
    "embedding_index.add_embedding(\"embedding\", dimension=model.config.projection_dim, model=model_mr)\n",
    "\n",
    "# Create or get feature group\n",
    "fg = fs.get_or_create_feature_group(\n",
    "    name=\"image_embeddings\",\n",
    "    version=1,\n",
    "    primary_key=[\"file_path\"],\n",
    "    online_enabled=True,\n",
    "    description=\"image embeddings\",\n",
    "    embedding_index=embedding_index,    \n",
    ")\n"
   ]
  },
  {
   "cell_type": "code",
   "execution_count": null,
   "id": "c68eda1e-5a72-4d70-a764-826d68994cc1",
   "metadata": {},
   "outputs": [],
   "source": [
    "fg.insert(df1)"
   ]
  },
  {
   "cell_type": "code",
   "execution_count": 1,
   "id": "266dabed-a26d-4be6-99b1-059f096794fc",
   "metadata": {},
   "outputs": [
    {
     "name": "stdout",
     "output_type": "stream",
     "text": [
      "Overwriting predict_similar_images.py\n"
     ]
    }
   ],
   "source": [
    "import os\n",
    "import io\n",
    "import base64\n",
    "from typing import Dict, List\n",
    "\n",
    "import torch\n",
    "from PIL import Image\n",
    "from transformers import CLIPProcessor, CLIPModel\n",
    "import hopsworks\n",
    "\n",
    "\n",
    "def get_image_embedding(image: Image.Image, processor: CLIPProcessor, model: CLIPModel, device: str) -> List[float]:\n",
    "    try:\n",
    "        inputs = processor(images=image, return_tensors=\"pt\").to(device)\n",
    "        with torch.no_grad():\n",
    "            image_features = model.get_image_features(**inputs)\n",
    "        # L2-normalize\n",
    "        image_features = image_features / image_features.norm(p=2, dim=-1, keepdim=True)\n",
    "        return image_features.squeeze().cpu().tolist()\n",
    "    except Exception as e:\n",
    "        # Log and re-raise so KServe surfaces it\n",
    "        print(f\"Error computing embedding: {e}\")\n",
    "        raise\n",
    "\n",
    "\n",
    "class Predictor(object):  # <-- MUST be named Predictor (or Predict)\n",
    "    def __init__(self):\n",
    "        super().__init__()\n",
    "        self.device = \"cuda\" if torch.cuda.is_available() else \"cpu\"\n",
    "        self.image_dir = \"/hopsfs/Jupyter/yolov8-face/data/widerface/train\"\n",
    "        self.project = hopsworks.login()\n",
    "        self.fs = self.project.get_feature_store()\n",
    "        self.fg = self.fs.get_feature_group(\"image_embeddings\", version=1)\n",
    "\n",
    "        # HF model + processor\n",
    "        model_path = os.environ.get(\"MODEL_FILES_PATH\")\n",
    "        if not model_path:\n",
    "            raise RuntimeError(\"MODEL_FILES_PATH environment variable is not set\")\n",
    "\n",
    "        self.model = CLIPModel.from_pretrained(model_path).to(self.device).eval()\n",
    "        self.processor = CLIPProcessor.from_pretrained(model_path)\n",
    "        self.ready = True\n",
    "        print(\"Initialization complete\")\n",
    "\n",
    "    def predict(self, inputs):\n",
    "        if not self.ready:\n",
    "            raise RuntimeError(\"Model not loaded yet\")\n",
    "\n",
    "        try:\n",
    "            # Expecting {\"image\": \"<base64-encoded-bytes>\"}\n",
    "            b64_image = inputs[0][0]\n",
    "            if not b64_image:\n",
    "                return {\"error\": \"Missing 'image' field (base64 string) in request\"}\n",
    "\n",
    "            image_bytes = base64.b64decode(b64_image)\n",
    "            image = Image.open(io.BytesIO(image_bytes)).convert(\"RGB\")\n",
    "\n",
    "            embedding = get_image_embedding(image, self.processor, self.model, self.device)\n",
    "\n",
    "            # Example neighbor search; adjust to your API\n",
    "            # Assuming find_neighbors returns iterable of (distance, (filepath, ...)) or similar\n",
    "            results = self.fg.find_neighbors(embedding, k=3)\n",
    "\n",
    "            returned_files = []\n",
    "            returned_images = []\n",
    "            for result in results:\n",
    "                path = result[1][0]  # adapt to your actual return shape\n",
    "                returned_files.append(path)\n",
    "                with open(path, \"rb\") as f:\n",
    "                    encoded = base64.b64encode(f.read()).decode(\"utf-8\")\n",
    "                    returned_images.append(encoded)\n",
    "\n",
    "            return {\n",
    "                \"file_names\": returned_files,\n",
    "                \"images\": returned_images,\n",
    "            }\n",
    "\n",
    "        except Exception as e:\n",
    "            # Return a serializable error\n",
    "            return {\"error\": str(e)}\n"
   ]
  },
  {
   "cell_type": "code",
   "execution_count": 6,
   "id": "f1ca45b5-590d-4998-af7d-110cf0637009",
   "metadata": {},
   "outputs": [
    {
     "data": {
      "application/vnd.jupyter.widget-view+json": {
       "model_id": "8511b36edd234f9ca9e0d63a02d68330",
       "version_major": 2,
       "version_minor": 0
      },
      "text/plain": [
       "Uploading /hopsfs/Jupyter/yolov8-face/predict_similar_images.py: 0.000%|          | 0/2510 elapsed<00:00 remai…"
      ]
     },
     "metadata": {},
     "output_type": "display_data"
    },
    {
     "name": "stdout",
     "output_type": "stream",
     "text": [
      "Deployment with the same name already exists. Getting existing deployment...\n",
      "To create a new deployment choose a different name.\n"
     ]
    }
   ],
   "source": [
    "# Get the dataset API from the project\n",
    "dataset_api = proj.get_dataset_api()\n",
    "\n",
    "# Specify the file to upload (\"predict_example.py\") to the \"Models\" directory, and allow overwriting\n",
    "uploaded_file_path = dataset_api.upload(\"predict_similar_images.py\", model_mr.model_files_path, overwrite=True)\n",
    "\n",
    "# Construct the full path to the uploaded predictor script\n",
    "predictor_script_path = os.path.join(\"/Projects\", proj.name, uploaded_file_path)\n",
    "\n",
    "# Deploy the fraud model\n",
    "deployment = model_mr.deploy(\n",
    "    name=\"similarimages\",\n",
    "    script_file=predictor_script_path, \n",
    ")"
   ]
  },
  {
   "cell_type": "code",
   "execution_count": null,
   "id": "ff380e4d-28f6-457b-894e-03c57b8f428c",
   "metadata": {},
   "outputs": [],
   "source": [
    "deployment"
   ]
  },
  {
   "cell_type": "code",
   "execution_count": 1,
   "id": "edeba470-a791-404f-b6bf-892309409842",
   "metadata": {},
   "outputs": [
    {
     "name": "stderr",
     "output_type": "stream",
     "text": [
      "2025-08-24 15:55:42.105 WARNING streamlit.runtime.scriptrunner_utils.script_run_context: Thread 'MainThread': missing ScriptRunContext! This warning can be ignored when running in bare mode.\n",
      "2025-08-24 15:55:42.382 \n",
      "  \u001b[33m\u001b[1mWarning:\u001b[0m to view this Streamlit app on a browser, run it with the following\n",
      "  command:\n",
      "\n",
      "    streamlit run /srv/hops/anaconda/envs/hopsworks_environment/lib/python3.10/site-packages/ipykernel_launcher.py [ARGUMENTS]\n",
      "2025-08-24 15:55:42.383 Thread 'MainThread': missing ScriptRunContext! This warning can be ignored when running in bare mode.\n",
      "2025-08-24 15:55:42.384 Thread 'MainThread': missing ScriptRunContext! This warning can be ignored when running in bare mode.\n",
      "2025-08-24 15:55:42.385 Thread 'MainThread': missing ScriptRunContext! This warning can be ignored when running in bare mode.\n",
      "2025-08-24 15:55:42.385 Thread 'MainThread': missing ScriptRunContext! This warning can be ignored when running in bare mode.\n",
      "2025-08-24 15:55:42.386 Thread 'MainThread': missing ScriptRunContext! This warning can be ignored when running in bare mode.\n",
      "2025-08-24 15:55:42.386 Thread 'MainThread': missing ScriptRunContext! This warning can be ignored when running in bare mode.\n",
      "2025-08-24 15:55:42.387 Thread 'MainThread': missing ScriptRunContext! This warning can be ignored when running in bare mode.\n",
      "2025-08-24 15:55:42.387 Thread 'MainThread': missing ScriptRunContext! This warning can be ignored when running in bare mode.\n"
     ]
    }
   ],
   "source": [
    "import streamlit as st\n",
    "import requests\n",
    "import base64\n",
    "import io\n",
    "from PIL import Image\n",
    "import hopsworks \n",
    "\n",
    "# Set your KServe endpoint here\n",
    "KSERVE_URL = \"http://10.87.16.6/v1/models/similarimages:predict\"\n",
    "\n",
    "st.title(\"🔍 Similar Image Finder\")\n",
    "\n",
    "uploaded_file = st.file_uploader(\"Upload an image\", type=[\"jpg\", \"jpeg\", \"png\"])\n",
    "\n",
    "\n",
    "\n",
    "if uploaded_file is not None:\n",
    "    # Show the uploaded image\n",
    "    image = Image.open(uploaded_file).convert(\"RGB\")\n",
    "    st.image(image, caption=\"Uploaded Image\", use_column_width=True)\n",
    "\n",
    "    # Convert image to base64\n",
    "    buffered = io.BytesIO()\n",
    "    image.save(buffered, format=\"PNG\")\n",
    "    b64_image = base64.b64encode(buffered.getvalue()).decode(\"utf-8\")\n",
    "\n",
    "    if st.button(\"Find Similar Images\"):\n",
    "        with st.spinner(\"Querying KServe model...\"):\n",
    "            payload = {\"image\": b64_image}\n",
    "            # response = requests.post(KSERVE_URL, json=payload)\n",
    "\n",
    "            # if response.status_code == 200:\n",
    "            #     result = response.json()\n",
    "            #     if \"error\" in result:\n",
    "            #         st.error(result[\"error\"])\n",
    "            #     else:\n",
    "            #         st.success(\"Found similar images:\")\n",
    "            #         for fname, b64_img in zip(result.get(\"file_names\", []), result.get(\"images\", [])):\n",
    "            #             img_bytes = base64.b64decode(b64_img)\n",
    "            #             sim_img = Image.open(io.BytesIO(img_bytes))\n",
    "            #             st.image(sim_img, caption=fname, use_column_width=True)\n",
    "            # else:\n",
    "            #     st.error(f\"Request failed: {response.status_code}\")\n"
   ]
  },
  {
   "cell_type": "code",
   "execution_count": 2,
   "id": "bedc7851-8c38-48f9-bb46-b39d3905c95f",
   "metadata": {},
   "outputs": [
    {
     "name": "stdout",
     "output_type": "stream",
     "text": [
      "\n",
      "Collecting usage statistics. To deactivate, set browser.gatherUsageStats to false.\n",
      "\u001b[0m\n",
      "\u001b[0m\n",
      "\u001b[34m\u001b[1m  You can now view your Streamlit app in your browser.\u001b[0m\n",
      "\u001b[0m\n",
      "\u001b[34m  Local URL: \u001b[0m\u001b[1mhttp://localhost:8501\u001b[0m\n",
      "\u001b[34m  Network URL: \u001b[0m\u001b[1mhttp://10.244.23.204:8501\u001b[0m\n",
      "\u001b[34m  External URL: \u001b[0m\u001b[1mhttp://81.228.118.23:8501\u001b[0m\n",
      "\u001b[0m\n",
      "^C\n",
      "\u001b[34m  Stopping...\u001b[0m\n"
     ]
    }
   ],
   "source": [
    " !streamlit run /srv/hops/anaconda/envs/hopsworks_environment/lib/python3.10/site-packages/ipykernel_launcher.py "
   ]
  },
  {
   "cell_type": "code",
   "execution_count": null,
   "id": "c2476d0c-a029-40e1-935d-a7e387ffd6d1",
   "metadata": {},
   "outputs": [],
   "source": []
  }
 ],
 "metadata": {
  "kernelspec": {
   "display_name": "Python",
   "language": "python",
   "name": "python3"
  },
  "language_info": {
   "codemirror_mode": {
    "name": "ipython",
    "version": 3
   },
   "file_extension": ".py",
   "mimetype": "text/x-python",
   "name": "python",
   "nbconvert_exporter": "python",
   "pygments_lexer": "ipython3",
   "version": "3.10.11"
  }
 },
 "nbformat": 4,
 "nbformat_minor": 5
}
